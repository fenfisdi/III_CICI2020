{
 "cells": [
  {
   "cell_type": "markdown",
   "metadata": {},
   "source": [
    "### Ejercicio práctico: Modelo SEIRV para Colombia ###\n",
    "\n",
    "__Realizado por:__  Boris Anghelo Rodríguez Rey y Nicole Rivera Parra\n",
    "\n",
    "_Instituto de Física, Universidad de Antioquia_\n",
    "\n",
    "En el presente Notebook podrá encontrar el ejercicio práctico propuesto para el taller \"Modelación matemática de la epidemia de COVID-19\" realizado el Lunes 10 de Agosto de 2020. Este tiene como finalidad reafirmar los conceptos y herramientas compartidas durante el encuentro."
   ]
  },
  {
   "cell_type": "code",
   "execution_count": 1,
   "metadata": {},
   "outputs": [
    {
     "name": "stdout",
     "output_type": "stream",
     "text": [
      "Populating the interactive namespace from numpy and matplotlib\n"
     ]
    }
   ],
   "source": [
    "###=== Importar librerías a usar ===###\n",
    "import numpy as np\n",
    "import matplotlib.pyplot as plt\n",
    "import pandas as pd\n",
    "from scipy import integrate\n",
    "import glob\n",
    "\n",
    "%pylab inline"
   ]
  },
  {
   "cell_type": "markdown",
   "metadata": {},
   "source": [
    "__Descripción modelo SEIRV__\n",
    "\n",
    "Como se ha expuesto en la reunión, los modelos $SEIRV$ tienen 5 variables de estado las cuales dan cuenta de:\n",
    "\n",
    "- Población suceptible ($S$)\n",
    "- Población expuesta al virus ($E$) (_portadores asintomaticos o sanos que propagan el virus_)\n",
    "- Población infectada ($I$)\n",
    "- Población recuperada ($R$)\n",
    "- Concentración de virus en el ambiente ($V$)\n",
    "\n",
    "y, de acuerdo a los estudios realizados a raíz de la pandemia del COVID-19, se adapta el [modelo epidemiológico SEIRV en Wuhan, China](http://www.aimspress.com/article/10.3934/mbe.2020148) al caso colombiano, el cual viene dado por las siguientes ecuaciones diferenciales para la evolución temporal e interacción de los mismos:\n",
    "\n",
    "---\n",
    "\n",
    "$$ \\frac{dS}{dt} = \\Lambda - \\beta_1(E) E S - \\beta_2(I) S I - \\beta_3(V) S V - \\mu S $$\n",
    "\n",
    "---\n",
    "\n",
    "$$ \\frac{dE}{dt} =  \\beta_1(E) E S + \\beta_2(I) S I + \\beta_3(V) S V - (\\alpha + \\mu) E $$\n",
    "\n",
    "---\n",
    "\n",
    "$$ \\frac{dI}{dt} = \\alpha E - (\\omega + \\gamma + \\mu) I $$\n",
    "\n",
    "---\n",
    "\n",
    "$$ \\frac{dR}{dt} = \\gamma I - \\mu R $$\n",
    "\n",
    "---\n",
    "\n",
    "$$ \\frac{dV}{dt} = \\xi_1 E + \\xi_2 I - \\sigma V $$\n",
    "\n",
    "---\n",
    "\n",
    "Donde encontramos los siguiente parámetros: \n",
    "\n",
    "$\\Lambda \\ (\\frac{personas}{dia}) = 15.098 \\times 5 \\times 10^4 \\times \\frac{1}{365} $: Tasa de natalidad. se usa dato reportado por el banco mundial en el 2017. \n",
    "\n",
    "$\\mu \\ (\\frac{1}{dia}) = \\frac{5.503 \\times 5 \\times 10^4}{5 \\times 10^6 \\times 365} $: Tasa de muertes naturales. Se usa dato reportado por el BM de 5.503 por mil habitantes.\n",
    "\n",
    "$\\alpha \\ (\\frac{1}{dia})=\\frac{1}{7}$: Frecuencia de incubación.\n",
    "\n",
    "$\\omega \\ (\\frac{1}{dia})= 10^{-2} $: Tasa de muerte inducida por el virus.\n",
    "\n",
    "$\\gamma \\ (\\frac{1}{dia})= \\frac{1}{15} $: Tasa de recuperación. \n",
    "\n",
    "$\\xi_1 \\ (\\frac{1}{dia}) = 2.30$: Tasa de dispersión del virus al ambiente por los individuos sanos portadores.\n",
    "\n",
    "$\\xi_2 \\ (\\frac{1}{dia}) = 0$: Tasa de dispersión del virus al ambiente por los individuos enfermos.\n",
    "\n",
    "$\\sigma \\ (\\frac{1}{dia}) = 1$: Tasa de remoción del virus en el ambiente.\n",
    "\n",
    "Y, las __Funciones de Contacto Directo__ (tasas $\\beta$) toman la forma $$ \\beta_i(x) = \\frac{\\beta_0(i)}{1 + c(i)x}  $$ siendo $\\beta_1$ para el contacto E-S (transmisión directa expuestos-sanos), $\\beta_2$ para el contacto (transmisión directa infectados-sanos) I-S y  $\\beta_3$ para el contacto S-V (transmisión indirecta sanos-ambiente). Ademas, se tienen los siguientes valores para la constante de transmisión $\\beta_0$ ($\\frac{1}{persona \\ dia}$) y  el coeficiente de ajuste para la transmisión $c$ ($\\frac{1}{persona}$).\n",
    "\n",
    "$$ \\beta_0 = [1.65 \\times 3.11 \\times 10^{-9}, 1.6 \\times 0.62 \\times 10^{-9}, 1.6 \\times 1.03 \\times 10^{-9}] $$\n",
    "\n",
    "$$ c = [1.01 \\times 10^{-4}, \\ 1.01 \\times 10^{-4}, \\ 1.01 \\times 10^{-4}  ] $$\n",
    "\n",
    "cabe notar que los anteriores valores han sido adaptados a partir de los datos disponibles para Colombia. "
   ]
  },
  {
   "cell_type": "markdown",
   "metadata": {},
   "source": [
    "$ \\\\ $\n",
    "\n",
    "__Actividad propuesta__\n",
    "\n",
    "A partir de la descripción del modelo SEIRV y sus datos para colombia, completar las celdas de código señaladas con el fin de visualizar el ajuste del modelo con los datos de Colombia en los primeros 20 días de la pandemia. "
   ]
  },
  {
   "cell_type": "code",
   "execution_count": 2,
   "metadata": {},
   "outputs": [],
   "source": [
    "###=== Definir parámetros fijos ===###\n",
    "#- Escribir los valores correspondientes -#\n",
    "\n",
    "lbd =         #Tasa de natalidad \n",
    "mu =          #Tasa de muertes naturales\n",
    "alpha =       #Frecuencia de incubación\n",
    "omega =       #Tasa de muerte inducida por el virus\n",
    "gama =        #Tasa de recuperación \n",
    "xi_1 =        #Tasa de dispersión del virus al ambiente por los individuos sanos portadores\n",
    "xi_2 =        #Tasa de dispersión del virus al ambiente por los individuos enfermos\n",
    "sigma =       #Tasa de remoción del virus en el ambiente"
   ]
  },
  {
   "cell_type": "code",
   "execution_count": 3,
   "metadata": {},
   "outputs": [],
   "source": [
    "###=== Definimos la función beta ===###\n",
    "def beta_fun(i, x):\n",
    "    b0 = [1.65*3.11*pow(10, -9), 1.6*0.62*pow(10, -9), 1.6*1.03*pow(10, -9)]\n",
    "    c = [1.01*pow(10, -4), 1.01*pow(10, -4), 1.01*pow(10, -4)]\n",
    "    \n",
    "    b = b0[i-1] / (1 + c[i-1]*x)\n",
    "    \n",
    "    return b"
   ]
  },
  {
   "cell_type": "code",
   "execution_count": 4,
   "metadata": {},
   "outputs": [],
   "source": [
    "##=== Definiendo sistema de ecuaciones ===##\n",
    "#- Completar los terminos faltantes -#\n",
    "\n",
    "def syst(y, t, beta, xi_2):\n",
    "    S, E, I, R, V = y\n",
    "    \n",
    "    dS = lbd - beta(1, E)*E*S - beta(2, I)*S*I - beta(3,V)*S*V - mu*S\n",
    "    dE = beta(1,E)*E*S + beta(2,I)*S*I + beta(3,V)*S*V - (alpha + mu)*E\n",
    "    dI = \n",
    "    dR = \n",
    "    dV = \n",
    "    \n",
    "    return [dS, dE, dI, dR, dV]"
   ]
  },
  {
   "cell_type": "markdown",
   "metadata": {},
   "source": [
    "Para definir las condiciones iniciales, le sugerimos considere que la población colombiana es de 50 millones de habitantes aproximadamente, no hay expuestos, infectados o recuperados en el tiempo inicial. Además, se asume una concentración inicial del virus en el ambiente de 100. "
   ]
  },
  {
   "cell_type": "code",
   "execution_count": 5,
   "metadata": {},
   "outputs": [],
   "source": [
    "###=== Definir las condiciones iniciales ===###\n",
    "#- Completar los espacios vacíos en la lista -#\n",
    "cond_col = [ ,  ,  ,  ,  ]"
   ]
  },
  {
   "cell_type": "markdown",
   "metadata": {},
   "source": [
    "Para el tiempo de integración considere que, queremos visualizar la evolución de nuestro sistema durante 300 días. "
   ]
  },
  {
   "cell_type": "code",
   "execution_count": 6,
   "metadata": {},
   "outputs": [],
   "source": [
    "###=== Definir tiempo de integración ===###\n",
    "#- Escriba el tiempo final -#\n",
    "time_col = np.arange(0, )"
   ]
  },
  {
   "cell_type": "markdown",
   "metadata": {},
   "source": [
    "Para integrar el sistema se usará nuevamente la función odeint "
   ]
  },
  {
   "cell_type": "code",
   "execution_count": 7,
   "metadata": {},
   "outputs": [],
   "source": [
    "##=== Integrando sistema de ecuaciones para colombia ===###\n",
    "Col_sol = integrate.odeint(syst, cond_col, time_col, args=(beta_fun, xi_2) )"
   ]
  },
  {
   "cell_type": "markdown",
   "metadata": {},
   "source": [
    "Las gráficas han sido ya definidas en las siguientes líneas de código. Si realizó correctamente el ejercicio, ellas ilustrarán el resultado esperado. "
   ]
  },
  {
   "cell_type": "code",
   "execution_count": 8,
   "metadata": {},
   "outputs": [
    {
     "data": {
      "image/png": "[encoded data removed]",
      "text/plain": [
       "<Figure size 432x288 with 1 Axes>"
      ]
     },
     "metadata": {
      "needs_background": "light"
     },
     "output_type": "display_data"
    }
   ],
   "source": [
    "##=== Graficando primeros resultados ===###\n",
    "plt.plot(time_col, Col_sol[:, 1], label=\"No documentados\")\n",
    "plt.plot(time_col, Col_sol[:, 2], label=\"Diagnosticados\")\n",
    "plt.xlabel(\"Días\")\n",
    "plt.ylabel(\"Personas\")\n",
    "plt.xlim(0, 200)\n",
    "plt.legend()\n",
    "plt.show()"
   ]
  },
  {
   "cell_type": "code",
   "execution_count": 9,
   "metadata": {},
   "outputs": [],
   "source": [
    "###=== Casos confirmados del INS ===###\n",
    "INS_data = [1, 1, 1, 3, 3, 9, 14, 19, 37, 53, 67, 92, 104, 130, 178, 212, 241, 314]"
   ]
  },
  {
   "cell_type": "code",
   "execution_count": 10,
   "metadata": {},
   "outputs": [
    {
     "data": {
      "image/png": "[encoded data removed]",
      "text/plain": [
       "<Figure size 432x288 with 1 Axes>"
      ]
     },
     "metadata": {
      "needs_background": "light"
     },
     "output_type": "display_data"
    }
   ],
   "source": [
    "##=== Graficando modelo para primeros 20 días ===###\n",
    "plt.plot(time_col[0:20], Col_sol[0:20, 1], label=\"No documentados\")\n",
    "plt.plot(time_col[0:20], Col_sol[0:20, 2], label=\"Diagnosticados\")\n",
    "plt.plot(time_col[1:19], INS_data, 'k.', label=\"Datos INS\")\n",
    "plt.xlabel(\"Días\")\n",
    "plt.ylabel(\"Personas\")\n",
    "plt.xlim(0, 20)\n",
    "plt.legend()\n",
    "plt.show()"
   ]
  },
  {
   "cell_type": "code",
   "execution_count": null,
   "metadata": {},
   "outputs": [],
   "source": []
  }
 ],
 "metadata": {
  "kernelspec": {
   "display_name": "Python 3",
   "language": "python",
   "name": "python3"
  },
  "language_info": {
   "codemirror_mode": {
    "name": "ipython",
    "version": 3
   },
   "file_extension": ".py",
   "mimetype": "text/x-python",
   "name": "python",
   "nbconvert_exporter": "python",
   "pygments_lexer": "ipython3",
   "version": "3.7.7"
  }
 },
 "nbformat": 4,
 "nbformat_minor": 4
}
